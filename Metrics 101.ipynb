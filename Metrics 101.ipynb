{
 "cells": [
  {
   "cell_type": "markdown",
   "metadata": {
    "slideshow": {
     "slide_type": "slide"
    }
   },
   "source": [
    "Metrics and Stats: Finally, visibility\n",
    "------------------------------------------------------\n",
    "\n",
    "Riemann, InfluxDB, Grafana, and more"
   ]
  },
  {
   "cell_type": "markdown",
   "metadata": {
    "slideshow": {
     "slide_type": "slide"
    }
   },
   "source": [
    "Previous visibility\n",
    "----------------------\n",
    "* Check Marathon / Mesos directly\n",
    "* Kibana\n",
    "* More recently, Bigboss stats\n",
    "\n",
    "![zener](zener.png)\n"
   ]
  },
  {
   "cell_type": "markdown",
   "metadata": {
    "slideshow": {
     "slide_type": "slide"
    }
   },
   "source": [
    "Metrics stack:\n",
    "-------------------------\n",
    "\n",
    "* Riemann - Aggregator (like Logstash)\n",
    "* InfluxDB - Time series database (like Elastic Search)\n",
    "* Grafana - Dashboard (like Kibana)\n",
    "* Flapjack - Alerting\n",
    "* Sensu - Like Nagios but newer"
   ]
  },
  {
   "cell_type": "markdown",
   "metadata": {
    "collapsed": false,
    "scrolled": true,
    "slideshow": {
     "slide_type": "slide"
    }
   },
   "source": [
    "Riemann\n",
    "--------\n",
    "* Written in Clojure (Lisp on the JVM)\n",
    "* All configuration also done in Clojure\n",
    "* Powerful stream processor\n",
    "* Exposes a rich API for interacting with data streams, plus Clojure's builtin tooling"
   ]
  },
  {
   "cell_type": "markdown",
   "metadata": {
    "slideshow": {
     "slide_type": "slide"
    }
   },
   "source": [
    "Basic Clojure\n",
    "---------------\n",
    "* Lisp, but compiles to Java bytecode (and runs on the JVM)\n",
    "* Dynamic typing (like most Lisps)\n",
    "* Basically everything is immutable"
   ]
  },
  {
   "cell_type": "code",
   "execution_count": 1,
   "metadata": {
    "collapsed": false,
    "slideshow": {
     "slide_type": "slide"
    }
   },
   "outputs": [
    {
     "name": "stdout",
     "output_type": "stream",
     "text": []
    },
    {
     "data": {
      "text/plain": [
       "\"this is a string\""
      ]
     },
     "execution_count": 1,
     "metadata": {},
     "output_type": "execute_result"
    }
   ],
   "source": [
    "; Some basics\n",
    "; Statements are called \"forms\" (basically, a block of code)\n",
    "\n",
    "\"this is a string\""
   ]
  },
  {
   "cell_type": "code",
   "execution_count": 2,
   "metadata": {
    "collapsed": false,
    "slideshow": {
     "slide_type": "fragment"
    }
   },
   "outputs": [
    {
     "name": "stdout",
     "output_type": "stream",
     "text": []
    },
    {
     "data": {
      "text/plain": [
       "5"
      ]
     },
     "execution_count": 2,
     "metadata": {},
     "output_type": "execute_result"
    }
   ],
   "source": [
    "; Numbers\n",
    "\n",
    "5"
   ]
  },
  {
   "cell_type": "code",
   "execution_count": 3,
   "metadata": {
    "collapsed": false,
    "slideshow": {
     "slide_type": "fragment"
    }
   },
   "outputs": [
    {
     "name": "stdout",
     "output_type": "stream",
     "text": []
    },
    {
     "data": {
      "text/plain": [
       "3"
      ]
     },
     "execution_count": 3,
     "metadata": {},
     "output_type": "execute_result"
    }
   ],
   "source": [
    "; Function calls\n",
    "\n",
    "(+ 1 2)"
   ]
  },
  {
   "cell_type": "code",
   "execution_count": 4,
   "metadata": {
    "collapsed": false,
    "slideshow": {
     "slide_type": "fragment"
    }
   },
   "outputs": [
    {
     "name": "stdout",
     "output_type": "stream",
     "text": []
    },
    {
     "data": {
      "text/plain": [
       "#'clojure.core/foo"
      ]
     },
     "execution_count": 4,
     "metadata": {},
     "output_type": "execute_result"
    }
   ],
   "source": [
    "; And definitions\n",
    "\n",
    "(def foo 5)"
   ]
  },
  {
   "cell_type": "code",
   "execution_count": 5,
   "metadata": {
    "collapsed": false,
    "slideshow": {
     "slide_type": "fragment"
    }
   },
   "outputs": [
    {
     "name": "stdout",
     "output_type": "stream",
     "text": []
    },
    {
     "data": {
      "text/plain": [
       "#'clojure.core/add_five"
      ]
     },
     "execution_count": 5,
     "metadata": {},
     "output_type": "execute_result"
    }
   ],
   "source": [
    "(defn add_five\n",
    "  [input]\n",
    "  (+ input 5))"
   ]
  },
  {
   "cell_type": "code",
   "execution_count": 6,
   "metadata": {
    "collapsed": false,
    "slideshow": {
     "slide_type": "slide"
    }
   },
   "outputs": [
    {
     "name": "stdout",
     "output_type": "stream",
     "text": []
    },
    {
     "data": {
      "text/plain": [
       "\"This is true\""
      ]
     },
     "execution_count": 6,
     "metadata": {},
     "output_type": "execute_result"
    }
   ],
   "source": [
    "; Control flow\n",
    "\n",
    "(if true\n",
    "  \"This is true\"\n",
    "  \"Nevermind its false\")"
   ]
  },
  {
   "cell_type": "code",
   "execution_count": 7,
   "metadata": {
    "collapsed": false,
    "slideshow": {
     "slide_type": "fragment"
    }
   },
   "outputs": [
    {
     "name": "stdout",
     "output_type": "stream",
     "text": []
    },
    {
     "data": {
      "text/plain": [
       "15"
      ]
     },
     "execution_count": 7,
     "metadata": {},
     "output_type": "execute_result"
    }
   ],
   "source": [
    "(let [tmp (+ 2 3)]\n",
    "  (+ 10 tmp))"
   ]
  },
  {
   "cell_type": "code",
   "execution_count": 8,
   "metadata": {
    "collapsed": false,
    "slideshow": {
     "slide_type": "fragment"
    }
   },
   "outputs": [
    {
     "name": "stdout",
     "output_type": "stream",
     "text": [
      "Still true\n",
      "but i can have multiple forms here\n"
     ]
    },
    {
     "data": {
      "text/plain": [
       "nil"
      ]
     },
     "execution_count": 8,
     "metadata": {},
     "output_type": "execute_result"
    }
   ],
   "source": [
    "(when true\n",
    "  (println \"Still true\")\n",
    "  (println \"but i can have multiple forms here\"))"
   ]
  },
  {
   "cell_type": "code",
   "execution_count": 9,
   "metadata": {
    "collapsed": false,
    "slideshow": {
     "slide_type": "fragment"
    }
   },
   "outputs": [
    {
     "name": "stdout",
     "output_type": "stream",
     "text": [
      "0 is not falsey\n",
      "nil is falsey\n"
     ]
    },
    {
     "data": {
      "text/plain": [
       "nil"
      ]
     },
     "execution_count": 9,
     "metadata": {},
     "output_type": "execute_result"
    }
   ],
   "source": [
    "; falsiness works like Lua (only nil and false are falsey)\n",
    "\n",
    "(do\n",
    "  (println (if 0 \"0 is not falsey\" \"0 is falesy\"))\n",
    "  (println (if nil \"nil is not falsey\" \"nil is falsey\")))"
   ]
  },
  {
   "cell_type": "markdown",
   "metadata": {
    "slideshow": {
     "slide_type": "slide"
    }
   },
   "source": [
    "Data types and structures\n",
    "-----------------"
   ]
  },
  {
   "cell_type": "code",
   "execution_count": 10,
   "metadata": {
    "collapsed": false,
    "slideshow": {
     "slide_type": "fragment"
    }
   },
   "outputs": [
    {
     "name": "stdout",
     "output_type": "stream",
     "text": []
    },
    {
     "data": {
      "text/plain": [
       "\"1\""
      ]
     },
     "execution_count": 10,
     "metadata": {},
     "output_type": "execute_result"
    }
   ],
   "source": [
    "; Basics like strings and numbers, nil, true/false (note: \n",
    "; all strings are double quoted)\n",
    "; Keywords, often used as keys in Maps, which also serve \n",
    "; as a \"get\" function\n",
    "\n",
    "(:foo {:foo \"1\" :bar \"2\"})"
   ]
  },
  {
   "cell_type": "code",
   "execution_count": 11,
   "metadata": {
    "collapsed": false,
    "slideshow": {
     "slide_type": "fragment"
    }
   },
   "outputs": [
    {
     "name": "stdout",
     "output_type": "stream",
     "text": []
    },
    {
     "data": {
      "text/plain": [
       "{:a \"a\", :b \"123\", \"qwer\" 25}"
      ]
     },
     "execution_count": 11,
     "metadata": {},
     "output_type": "execute_result"
    }
   ],
   "source": [
    "; Maps (remember, its all lists, so you just alternate key/value, \n",
    "; no : or = or ,)\n",
    "\n",
    "{:a \"a\" :b \"123\" \"qwer\" 25}"
   ]
  },
  {
   "cell_type": "code",
   "execution_count": 12,
   "metadata": {
    "collapsed": false,
    "slideshow": {
     "slide_type": "fragment"
    }
   },
   "outputs": [
    {
     "name": "stdout",
     "output_type": "stream",
     "text": [
      "[1 2 asdf true]\n",
      "6\n",
      "[1 2 3 4]\n"
     ]
    },
    {
     "data": {
      "text/plain": [
       "nil"
      ]
     },
     "execution_count": 12,
     "metadata": {},
     "output_type": "execute_result"
    }
   ],
   "source": [
    "; Vectors (basically, arrays); good for adding things to the end, and \n",
    "; can \"get\" values by index efficiently\n",
    "\n",
    "(do \n",
    "  (println [1 2 \"asdf\" true])\n",
    "  (println (get [5 6 7] 1))\n",
    "  (println (conj [1 2 3] 4)))"
   ]
  },
  {
   "cell_type": "code",
   "execution_count": 13,
   "metadata": {
    "collapsed": false,
    "slideshow": {
     "slide_type": "slide"
    }
   },
   "outputs": [
    {
     "name": "stdout",
     "output_type": "stream",
     "text": [
      "(1 2 asdf true)\n",
      "6\n",
      "(4 1 2 3)\n"
     ]
    },
    {
     "data": {
      "text/plain": [
       "nil"
      ]
     },
     "execution_count": 13,
     "metadata": {},
     "output_type": "execute_result"
    }
   ],
   "source": [
    "; Lists, similar to vectors, but items are added to the front; \"nth\" \n",
    "; to get back elements is also slower\n",
    "\n",
    "(do\n",
    "  (println '(1 2 \"asdf\" true))\n",
    "  (println (nth '(5 6 7) 1))\n",
    "  (println (conj '(1 2 3) 4)))"
   ]
  },
  {
   "cell_type": "code",
   "execution_count": 14,
   "metadata": {
    "collapsed": false,
    "slideshow": {
     "slide_type": "fragment"
    }
   },
   "outputs": [
    {
     "name": "stdout",
     "output_type": "stream",
     "text": [
      "#{1 2 true asdf}\n",
      "#{1 3 4 qwer false}\n"
     ]
    },
    {
     "data": {
      "text/plain": [
       "nil"
      ]
     },
     "execution_count": 14,
     "metadata": {},
     "output_type": "execute_result"
    }
   ],
   "source": [
    "; Sets (this is a hash set, specifically); just a unique collection \n",
    "; of values\n",
    "\n",
    "(do \n",
    "  (println #{1 2 \"asdf\" true})\n",
    "  (println (hash-set 1 1 3 4 \"qwer\" false false)))"
   ]
  },
  {
   "cell_type": "markdown",
   "metadata": {
    "slideshow": {
     "slide_type": "slide"
    }
   },
   "source": [
    "Other Important Things\n",
    "------------------"
   ]
  },
  {
   "cell_type": "code",
   "execution_count": 15,
   "metadata": {
    "collapsed": false,
    "slideshow": {
     "slide_type": "fragment"
    }
   },
   "outputs": [
    {
     "name": "stdout",
     "output_type": "stream",
     "text": []
    },
    {
     "data": {
      "text/plain": [
       "false"
      ]
     },
     "execution_count": 15,
     "metadata": {},
     "output_type": "execute_result"
    }
   ],
   "source": [
    "; Remember everything is immutable, and `def` is assignment, \n",
    "; so `=` is just an eq comparison\n",
    "\n",
    "(= 1 2)"
   ]
  },
  {
   "cell_type": "code",
   "execution_count": 16,
   "metadata": {
    "collapsed": false,
    "slideshow": {
     "slide_type": "fragment"
    }
   },
   "outputs": [
    {
     "name": "stdout",
     "output_type": "stream",
     "text": []
    },
    {
     "data": {
      "text/plain": [
       "\"this is returned\""
      ]
     },
     "execution_count": 16,
     "metadata": {},
     "output_type": "execute_result"
    }
   ],
   "source": [
    "; Functions return the value of the last thing they do\n",
    "\n",
    "(do \n",
    "  (defn foo\n",
    "    []\n",
    "    (+ 1 2)\n",
    "    \"this is returned\")\n",
    "\n",
    "  (foo))"
   ]
  },
  {
   "cell_type": "code",
   "execution_count": 17,
   "metadata": {
    "collapsed": false,
    "slideshow": {
     "slide_type": "slide"
    }
   },
   "outputs": [
    {
     "name": "stdout",
     "output_type": "stream",
     "text": [
      "you entered: default value\n",
      "you entered: something else\n"
     ]
    },
    {
     "data": {
      "text/plain": [
       "nil"
      ]
     },
     "execution_count": 17,
     "metadata": {},
     "output_type": "execute_result"
    }
   ],
   "source": [
    "; Functions can have multiple arities (number of arguments)\n",
    "\n",
    "(do\n",
    "  (defn baz\n",
    "    ([x]\n",
    "      (println (str \"you entered: \" x)))\n",
    "    ([]\n",
    "      (baz \"default value\")))\n",
    "  (baz)\n",
    "  (baz \"something else\"))"
   ]
  },
  {
   "cell_type": "markdown",
   "metadata": {
    "slideshow": {
     "slide_type": "slide"
    }
   },
   "source": [
    "Riemann Basics\n",
    "----------------\n",
    "* Config files are just regular clojure; you can define variables, functions, whatever\n",
    "* All the work comes from the `streams` function Riemann provides: all your stream processing happens in there"
   ]
  },
  {
   "cell_type": "code",
   "execution_count": null,
   "metadata": {
    "collapsed": false,
    "slideshow": {
     "slide_type": "slide"
    }
   },
   "outputs": [],
   "source": [
    "; The `where` function basically filters your data; here, \n",
    "; we use the provided `service` function\n",
    "\n",
    "(streams\n",
    "  (where (service \"my-service-name\")\n",
    "    send-influx))"
   ]
  },
  {
   "cell_type": "code",
   "execution_count": null,
   "metadata": {
    "collapsed": true,
    "slideshow": {
     "slide_type": "fragment"
    }
   },
   "outputs": [],
   "source": [
    "; You can also \"group-by\" data, with `by`\n",
    "\n",
    "(streams\n",
    "  (by :service\n",
    "    send-influx))"
   ]
  },
  {
   "cell_type": "code",
   "execution_count": null,
   "metadata": {
    "collapsed": true,
    "slideshow": {
     "slide_type": "fragment"
    }
   },
   "outputs": [],
   "source": [
    "; The `rate` function rolls up data at an interval\n",
    "\n",
    "(streams\n",
    "  (rate 1\n",
    "    (send-influx)))"
   ]
  },
  {
   "cell_type": "code",
   "execution_count": null,
   "metadata": {
    "collapsed": true,
    "slideshow": {
     "slide_type": "slide"
    }
   },
   "outputs": [],
   "source": [
    "; The `with` function lets you pass along an attr on a stream\n",
    "\n",
    "(streams\n",
    "  (where (service \"foobar\")\n",
    "    (with :service \"renamed-foobar\"\n",
    "      send-influx)))"
   ]
  },
  {
   "cell_type": "code",
   "execution_count": null,
   "metadata": {
    "collapsed": true,
    "slideshow": {
     "slide_type": "fragment"
    }
   },
   "outputs": [],
   "source": [
    "; There's also a super helpful `percentiles` function, to let\n",
    "; you see how time-based metrics really look (not just the avg)\n",
    "\n",
    "(streams\n",
    "  (where (service \"api-request-time\")\n",
    "    (percentiles 1 [0.5 0.95 0.99]\n",
    "      send-influx)))"
   ]
  }
 ],
 "metadata": {
  "celltoolbar": "Slideshow",
  "kernelspec": {
   "display_name": "Clojure",
   "language": "clojure",
   "name": "clojure"
  },
  "language": "clojure"
 },
 "nbformat": 4,
 "nbformat_minor": 0
}
